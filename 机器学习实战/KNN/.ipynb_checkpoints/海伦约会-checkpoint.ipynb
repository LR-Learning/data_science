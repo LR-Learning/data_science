{
 "cells": [
  {
   "cell_type": "markdown",
   "metadata": {},
   "source": [
    "# 1.实战背景"
   ]
  },
  {
   "cell_type": "markdown",
   "metadata": {},
   "source": [
    "    海伦女士一直使用在线约会网站寻找适合自己的约会对象。尽管约会网站会推荐不同的任选，但她并不是喜欢每一个人。经过一番总结，她发现自己交往过的人可以进行如下分类：\n",
    "\n",
    "    1. 不喜欢的人\n",
    "    2. 魅力一般的人\n",
    "    3. 极具魅力的人"
   ]
  },
  {
   "cell_type": "code",
   "execution_count": null,
   "metadata": {},
   "outputs": [],
   "source": [
    "海伦收集的样本数据主要包含以下3种特征：\n",
    "\n",
    "    1. 每年获得的飞行常客里程数\n",
    "    2. 玩视频游戏所消耗时间百分比\n",
    "    3. 每周消费的冰淇淋公升数"
   ]
  }
 ],
 "metadata": {
  "kernelspec": {
   "display_name": "Python 3",
   "language": "python",
   "name": "python3"
  },
  "language_info": {
   "codemirror_mode": {
    "name": "ipython",
    "version": 3
   },
   "file_extension": ".py",
   "mimetype": "text/x-python",
   "name": "python",
   "nbconvert_exporter": "python",
   "pygments_lexer": "ipython3",
   "version": "3.8.5"
  }
 },
 "nbformat": 4,
 "nbformat_minor": 4
}
