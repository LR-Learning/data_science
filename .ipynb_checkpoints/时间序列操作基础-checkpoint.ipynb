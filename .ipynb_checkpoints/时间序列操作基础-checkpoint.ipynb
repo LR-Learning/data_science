{
 "cells": [
  {
   "cell_type": "code",
   "execution_count": 1,
   "metadata": {},
   "outputs": [],
   "source": [
    "import numpy as np\n",
    "import pandas as pd\n",
    "from pandas import Series,DataFrame"
   ]
  },
  {
   "cell_type": "code",
   "execution_count": 3,
   "metadata": {},
   "outputs": [],
   "source": [
    "from datetime import datetime\n",
    "t1 = datetime(2021,4,10)"
   ]
  },
  {
   "cell_type": "code",
   "execution_count": 4,
   "metadata": {},
   "outputs": [
    {
     "data": {
      "text/plain": [
       "datetime.datetime(2021, 4, 10, 0, 0)"
      ]
     },
     "execution_count": 4,
     "metadata": {},
     "output_type": "execute_result"
    }
   ],
   "source": [
    "t1"
   ]
  },
  {
   "cell_type": "code",
   "execution_count": 5,
   "metadata": {},
   "outputs": [],
   "source": [
    "date_list = [\n",
    "    datetime(2016,9,1),\n",
    "    datetime(2017,10,1),\n",
    "    datetime(2018,9,10),\n",
    "    datetime(2019,9,17),\n",
    "    datetime(2021,9,1)\n",
    "]"
   ]
  },
  {
   "cell_type": "code",
   "execution_count": 6,
   "metadata": {},
   "outputs": [
    {
     "data": {
      "text/plain": [
       "[datetime.datetime(2016, 9, 1, 0, 0),\n",
       " datetime.datetime(2017, 10, 1, 0, 0),\n",
       " datetime.datetime(2018, 9, 10, 0, 0),\n",
       " datetime.datetime(2019, 9, 17, 0, 0),\n",
       " datetime.datetime(2021, 9, 1, 0, 0)]"
      ]
     },
     "execution_count": 6,
     "metadata": {},
     "output_type": "execute_result"
    }
   ],
   "source": [
    "date_list"
   ]
  },
  {
   "cell_type": "code",
   "execution_count": 7,
   "metadata": {},
   "outputs": [],
   "source": [
    "s1 = Series(np.random.rand(5), index=date_list)"
   ]
  },
  {
   "cell_type": "code",
   "execution_count": 8,
   "metadata": {},
   "outputs": [
    {
     "data": {
      "text/plain": [
       "2016-09-01    0.117779\n",
       "2017-10-01    0.076126\n",
       "2018-09-10    0.391775\n",
       "2019-09-17    0.503626\n",
       "2021-09-01    0.935977\n",
       "dtype: float64"
      ]
     },
     "execution_count": 8,
     "metadata": {},
     "output_type": "execute_result"
    }
   ],
   "source": [
    "s1"
   ]
  },
  {
   "cell_type": "code",
   "execution_count": 9,
   "metadata": {},
   "outputs": [
    {
     "data": {
      "text/plain": [
       "array([0.11777862, 0.07612555, 0.39177472, 0.50362558, 0.93597734])"
      ]
     },
     "execution_count": 9,
     "metadata": {},
     "output_type": "execute_result"
    }
   ],
   "source": [
    "s1.values"
   ]
  },
  {
   "cell_type": "code",
   "execution_count": 10,
   "metadata": {},
   "outputs": [
    {
     "data": {
      "text/plain": [
       "0.07612555403102805"
      ]
     },
     "execution_count": 10,
     "metadata": {},
     "output_type": "execute_result"
    }
   ],
   "source": [
    "s1[1] # 访问数据的方式"
   ]
  },
  {
   "cell_type": "code",
   "execution_count": 11,
   "metadata": {},
   "outputs": [
    {
     "data": {
      "text/plain": [
       "0.07612555403102805"
      ]
     },
     "execution_count": 11,
     "metadata": {},
     "output_type": "execute_result"
    }
   ],
   "source": [
    "s1[datetime(2017,10,1)]"
   ]
  },
  {
   "cell_type": "code",
   "execution_count": 12,
   "metadata": {},
   "outputs": [
    {
     "data": {
      "text/plain": [
       "0.07612555403102805"
      ]
     },
     "execution_count": 12,
     "metadata": {},
     "output_type": "execute_result"
    }
   ],
   "source": [
    "s1['2017-10-1']"
   ]
  },
  {
   "cell_type": "code",
   "execution_count": 14,
   "metadata": {},
   "outputs": [
    {
     "data": {
      "text/plain": [
       "2017-10-01    0.076126\n",
       "dtype: float64"
      ]
     },
     "execution_count": 14,
     "metadata": {},
     "output_type": "execute_result"
    }
   ],
   "source": [
    "s1['2017'] # 返回时间范围内的数据"
   ]
  },
  {
   "cell_type": "code",
   "execution_count": 19,
   "metadata": {},
   "outputs": [],
   "source": [
    "date_list_new = pd.date_range('2016-01-01', periods=100,freq='W-MON')  # 创建一个时间数组"
   ]
  },
  {
   "cell_type": "code",
   "execution_count": 20,
   "metadata": {},
   "outputs": [
    {
     "data": {
      "text/plain": [
       "DatetimeIndex(['2016-01-04', '2016-01-11', '2016-01-18', '2016-01-25',\n",
       "               '2016-02-01', '2016-02-08', '2016-02-15', '2016-02-22',\n",
       "               '2016-02-29', '2016-03-07', '2016-03-14', '2016-03-21',\n",
       "               '2016-03-28', '2016-04-04', '2016-04-11', '2016-04-18',\n",
       "               '2016-04-25', '2016-05-02', '2016-05-09', '2016-05-16',\n",
       "               '2016-05-23', '2016-05-30', '2016-06-06', '2016-06-13',\n",
       "               '2016-06-20', '2016-06-27', '2016-07-04', '2016-07-11',\n",
       "               '2016-07-18', '2016-07-25', '2016-08-01', '2016-08-08',\n",
       "               '2016-08-15', '2016-08-22', '2016-08-29', '2016-09-05',\n",
       "               '2016-09-12', '2016-09-19', '2016-09-26', '2016-10-03',\n",
       "               '2016-10-10', '2016-10-17', '2016-10-24', '2016-10-31',\n",
       "               '2016-11-07', '2016-11-14', '2016-11-21', '2016-11-28',\n",
       "               '2016-12-05', '2016-12-12', '2016-12-19', '2016-12-26',\n",
       "               '2017-01-02', '2017-01-09', '2017-01-16', '2017-01-23',\n",
       "               '2017-01-30', '2017-02-06', '2017-02-13', '2017-02-20',\n",
       "               '2017-02-27', '2017-03-06', '2017-03-13', '2017-03-20',\n",
       "               '2017-03-27', '2017-04-03', '2017-04-10', '2017-04-17',\n",
       "               '2017-04-24', '2017-05-01', '2017-05-08', '2017-05-15',\n",
       "               '2017-05-22', '2017-05-29', '2017-06-05', '2017-06-12',\n",
       "               '2017-06-19', '2017-06-26', '2017-07-03', '2017-07-10',\n",
       "               '2017-07-17', '2017-07-24', '2017-07-31', '2017-08-07',\n",
       "               '2017-08-14', '2017-08-21', '2017-08-28', '2017-09-04',\n",
       "               '2017-09-11', '2017-09-18', '2017-09-25', '2017-10-02',\n",
       "               '2017-10-09', '2017-10-16', '2017-10-23', '2017-10-30',\n",
       "               '2017-11-06', '2017-11-13', '2017-11-20', '2017-11-27'],\n",
       "              dtype='datetime64[ns]', freq='W-MON')"
      ]
     },
     "execution_count": 20,
     "metadata": {},
     "output_type": "execute_result"
    }
   ],
   "source": [
    "date_list_new"
   ]
  },
  {
   "cell_type": "code",
   "execution_count": null,
   "metadata": {},
   "outputs": [],
   "source": []
  }
 ],
 "metadata": {
  "kernelspec": {
   "display_name": "Python 3",
   "language": "python",
   "name": "python3"
  },
  "language_info": {
   "codemirror_mode": {
    "name": "ipython",
    "version": 3
   },
   "file_extension": ".py",
   "mimetype": "text/x-python",
   "name": "python",
   "nbconvert_exporter": "python",
   "pygments_lexer": "ipython3",
   "version": "3.8.5"
  }
 },
 "nbformat": 4,
 "nbformat_minor": 4
}
