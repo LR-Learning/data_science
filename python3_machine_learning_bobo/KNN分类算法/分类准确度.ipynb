{
 "cells": [
  {
   "cell_type": "code",
   "execution_count": 1,
   "metadata": {},
   "outputs": [],
   "source": [
    "import numpy as pd\n",
    "import matplotlib.pyplot as plt\n",
    "import matplotlib\n",
    "from sklearn import datasets"
   ]
  },
  {
   "cell_type": "code",
   "execution_count": 2,
   "metadata": {},
   "outputs": [],
   "source": [
    "digits = datasets.load_digits()"
   ]
  },
  {
   "cell_type": "code",
   "execution_count": 3,
   "metadata": {},
   "outputs": [
    {
     "data": {
      "text/plain": [
       "(1797, 64)"
      ]
     },
     "execution_count": 3,
     "metadata": {},
     "output_type": "execute_result"
    }
   ],
   "source": [
    "X = digits.data\n",
    "X.shape"
   ]
  },
  {
   "cell_type": "code",
   "execution_count": 4,
   "metadata": {},
   "outputs": [
    {
     "data": {
      "text/plain": [
       "(1797,)"
      ]
     },
     "execution_count": 4,
     "metadata": {},
     "output_type": "execute_result"
    }
   ],
   "source": [
    "y = digits.target\n",
    "y.shape"
   ]
  },
  {
   "cell_type": "code",
   "execution_count": 5,
   "metadata": {},
   "outputs": [
    {
     "data": {
      "text/plain": [
       "array([0, 1, 2, 3, 4, 5, 6, 7, 8, 9])"
      ]
     },
     "execution_count": 5,
     "metadata": {},
     "output_type": "execute_result"
    }
   ],
   "source": [
    "digits.target_names"
   ]
  },
  {
   "cell_type": "code",
   "execution_count": 6,
   "metadata": {},
   "outputs": [
    {
     "data": {
      "text/plain": [
       "array([0, 1, 2, 3, 4, 5, 6, 7, 8, 9, 0, 1, 2, 3, 4, 5, 6, 7, 8, 9, 0, 1,\n",
       "       2, 3, 4, 5, 6, 7, 8, 9, 0, 9, 5, 5, 6, 5, 0, 9, 8, 9, 8, 4, 1, 7,\n",
       "       7, 3, 5, 1, 0, 0, 2, 2, 7, 8, 2, 0, 1, 2, 6, 3, 3, 7, 3, 3, 4, 6,\n",
       "       6, 6, 4, 9, 1, 5, 0, 9, 5, 2, 8, 2, 0, 0, 1, 7, 6, 3, 2, 1, 7, 4,\n",
       "       6, 3, 1, 3, 9, 1, 7, 6, 8, 4, 3, 1])"
      ]
     },
     "execution_count": 6,
     "metadata": {},
     "output_type": "execute_result"
    }
   ],
   "source": [
    "y[:100]"
   ]
  },
  {
   "cell_type": "code",
   "execution_count": 7,
   "metadata": {},
   "outputs": [],
   "source": [
    "some_digit = X[666]"
   ]
  },
  {
   "cell_type": "code",
   "execution_count": 8,
   "metadata": {},
   "outputs": [
    {
     "data": {
      "text/plain": [
       "<matplotlib.image.AxesImage at 0x1cd3d7c1790>"
      ]
     },
     "execution_count": 8,
     "metadata": {},
     "output_type": "execute_result"
    },
    {
     "data": {
      "image/png": "[encoded data removed]",
      "text/plain": [
       "<Figure size 432x288 with 1 Axes>"
      ]
     },
     "metadata": {
      "needs_background": "light"
     },
     "output_type": "display_data"
    }
   ],
   "source": [
    "some_digit_image = some_digit.reshape(8, 8)\n",
    "plt.imshow(some_digit_image, cmap = matplotlib.cm.binary)"
   ]
  },
  {
   "cell_type": "code",
   "execution_count": 9,
   "metadata": {},
   "outputs": [],
   "source": [
    "from sklearn.model_selection import train_test_split\n",
    "from sklearn.neighbors import KNeighborsClassifier"
   ]
  },
  {
   "cell_type": "code",
   "execution_count": 10,
   "metadata": {},
   "outputs": [],
   "source": [
    "X_train, X_test, y_train, y_test = train_test_split(X, y, test_size=0.2)\n",
    "knn_clf = KNeighborsClassifier(n_neighbors=3)\n",
    "knn_clf.fit(X_train, y_train)\n",
    "y_predict = knn_clf.predict(X_test)"
   ]
  },
  {
   "cell_type": "code",
   "execution_count": 11,
   "metadata": {},
   "outputs": [
    {
     "data": {
      "text/plain": [
       "array([9, 8, 6, 0, 8, 9, 7, 1, 0, 8, 6, 0, 7, 7, 5, 1, 7, 0, 3, 9, 3, 0,\n",
       "       6, 1, 8, 4, 8, 0, 4, 5, 6, 7, 0, 7, 6, 0, 5, 1, 7, 7, 2, 0, 7, 2,\n",
       "       6, 3, 8, 5, 8, 0, 6, 6, 4, 7, 0, 6, 4, 6, 8, 7, 0, 7, 1, 4, 9, 1,\n",
       "       2, 1, 6, 3, 5, 4, 2, 4, 4, 8, 4, 9, 2, 3, 6, 0, 0, 0, 0, 8, 1, 7,\n",
       "       3, 9, 2, 9, 8, 5, 0, 8, 6, 1, 1, 7, 3, 1, 6, 7, 4, 1, 1, 8, 4, 7,\n",
       "       2, 0, 3, 9, 3, 4, 0, 2, 8, 2, 4, 8, 3, 0, 4, 2, 7, 0, 6, 0, 6, 5,\n",
       "       1, 9, 2, 7, 4, 4, 8, 4, 0, 8, 7, 5, 8, 7, 6, 8, 3, 6, 0, 2, 5, 2,\n",
       "       7, 6, 8, 7, 1, 4, 4, 5, 7, 2, 1, 5, 4, 1, 6, 0, 5, 3, 0, 3, 8, 9,\n",
       "       7, 6, 1, 4, 1, 2, 5, 5, 0, 6, 3, 4, 5, 0, 4, 3, 9, 4, 9, 5, 5, 6,\n",
       "       8, 7, 4, 3, 3, 3, 2, 8, 9, 7, 7, 4, 6, 3, 9, 5, 2, 1, 8, 1, 5, 1,\n",
       "       8, 2, 0, 5, 1, 6, 3, 6, 4, 2, 7, 2, 4, 2, 5, 2, 0, 9, 8, 9, 5, 9,\n",
       "       3, 1, 3, 3, 3, 5, 7, 9, 4, 9, 4, 4, 0, 2, 7, 0, 1, 3, 4, 8, 5, 7,\n",
       "       8, 7, 5, 2, 4, 2, 8, 5, 2, 6, 9, 5, 6, 6, 1, 3, 9, 1, 4, 6, 9, 7,\n",
       "       4, 0, 0, 4, 6, 7, 9, 6, 6, 0, 8, 9, 8, 4, 9, 7, 3, 0, 7, 7, 8, 1,\n",
       "       0, 1, 2, 5, 2, 7, 4, 5, 1, 2, 5, 7, 0, 7, 3, 7, 3, 1, 1, 4, 4, 2,\n",
       "       3, 5, 2, 3, 6, 3, 5, 9, 1, 1, 5, 3, 2, 9, 0, 8, 8, 6, 2, 4, 4, 5,\n",
       "       5, 1, 0, 0, 4, 9, 6, 7])"
      ]
     },
     "execution_count": 11,
     "metadata": {},
     "output_type": "execute_result"
    }
   ],
   "source": [
    "y_predict"
   ]
  },
  {
   "cell_type": "code",
   "execution_count": 12,
   "metadata": {},
   "outputs": [
    {
     "data": {
      "text/plain": [
       "354"
      ]
     },
     "execution_count": 12,
     "metadata": {},
     "output_type": "execute_result"
    }
   ],
   "source": [
    "sum(y_predict == y_test)"
   ]
  },
  {
   "cell_type": "code",
   "execution_count": 13,
   "metadata": {},
   "outputs": [],
   "source": [
    "accuracy = sum(y_predict == y_test) / len(y_test)"
   ]
  },
  {
   "cell_type": "code",
   "execution_count": 14,
   "metadata": {},
   "outputs": [
    {
     "data": {
      "text/plain": [
       "0.9833333333333333"
      ]
     },
     "execution_count": 14,
     "metadata": {},
     "output_type": "execute_result"
    }
   ],
   "source": [
    "accuracy"
   ]
  },
  {
   "cell_type": "code",
   "execution_count": 15,
   "metadata": {},
   "outputs": [
    {
     "data": {
      "text/plain": [
       "0.9833333333333333"
      ]
     },
     "execution_count": 15,
     "metadata": {},
     "output_type": "execute_result"
    }
   ],
   "source": [
    "knn_clf.score(X_test, y_test)"
   ]
  },
  {
   "cell_type": "code",
   "execution_count": null,
   "metadata": {},
   "outputs": [],
   "source": []
  }
 ],
 "metadata": {
  "kernelspec": {
   "display_name": "Python 3",
   "language": "python",
   "name": "python3"
  },
  "language_info": {
   "codemirror_mode": {
    "name": "ipython",
    "version": 3
   },
   "file_extension": ".py",
   "mimetype": "text/x-python",
   "name": "python",
   "nbconvert_exporter": "python",
   "pygments_lexer": "ipython3",
   "version": "3.8.5"
  }
 },
 "nbformat": 4,
 "nbformat_minor": 4
}
