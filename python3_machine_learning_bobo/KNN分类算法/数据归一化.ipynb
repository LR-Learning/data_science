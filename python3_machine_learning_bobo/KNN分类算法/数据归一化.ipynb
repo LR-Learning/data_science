{
 "cells": [
  {
   "cell_type": "code",
   "execution_count": 1,
   "metadata": {},
   "outputs": [],
   "source": [
    "import numpy as np\n",
    "import matplotlib.pyplot as plt"
   ]
  },
  {
   "cell_type": "markdown",
   "metadata": {},
   "source": [
    "# 最值归一化 Normalization"
   ]
  },
  {
   "cell_type": "code",
   "execution_count": 2,
   "metadata": {},
   "outputs": [],
   "source": [
    "x = np.random.randint(0, 100, size=100) # 数组"
   ]
  },
  {
   "cell_type": "code",
   "execution_count": 3,
   "metadata": {},
   "outputs": [
    {
     "data": {
      "text/plain": [
       "array([88, 54, 80, 72, 81, 56, 18, 63, 86, 69, 89, 46, 37, 53, 44, 77, 39,\n",
       "       10, 35, 53, 87, 61, 48, 41, 84, 81, 37,  9,  0, 81, 53, 63, 61, 78,\n",
       "       58, 72, 49, 38, 16,  5,  1, 24, 43,  8,  1, 19, 39, 98, 78, 81, 63,\n",
       "       97, 41,  9, 37,  8, 89, 73, 78,  7, 22, 13, 48, 51, 49, 40, 55, 31,\n",
       "       80,  6, 25,  0, 52, 12, 38, 87, 71, 44, 32, 46, 20, 98, 94, 69,  0,\n",
       "        9, 39,  0,  2, 42, 30, 33, 88, 72, 55, 21, 80, 16, 56, 95])"
      ]
     },
     "execution_count": 3,
     "metadata": {},
     "output_type": "execute_result"
    }
   ],
   "source": [
    "x"
   ]
  },
  {
   "cell_type": "code",
   "execution_count": 4,
   "metadata": {},
   "outputs": [
    {
     "data": {
      "text/plain": [
       "array([0.89795918, 0.55102041, 0.81632653, 0.73469388, 0.82653061,\n",
       "       0.57142857, 0.18367347, 0.64285714, 0.87755102, 0.70408163,\n",
       "       0.90816327, 0.46938776, 0.37755102, 0.54081633, 0.44897959,\n",
       "       0.78571429, 0.39795918, 0.10204082, 0.35714286, 0.54081633,\n",
       "       0.8877551 , 0.62244898, 0.48979592, 0.41836735, 0.85714286,\n",
       "       0.82653061, 0.37755102, 0.09183673, 0.        , 0.82653061,\n",
       "       0.54081633, 0.64285714, 0.62244898, 0.79591837, 0.59183673,\n",
       "       0.73469388, 0.5       , 0.3877551 , 0.16326531, 0.05102041,\n",
       "       0.01020408, 0.24489796, 0.43877551, 0.08163265, 0.01020408,\n",
       "       0.19387755, 0.39795918, 1.        , 0.79591837, 0.82653061,\n",
       "       0.64285714, 0.98979592, 0.41836735, 0.09183673, 0.37755102,\n",
       "       0.08163265, 0.90816327, 0.74489796, 0.79591837, 0.07142857,\n",
       "       0.2244898 , 0.13265306, 0.48979592, 0.52040816, 0.5       ,\n",
       "       0.40816327, 0.56122449, 0.31632653, 0.81632653, 0.06122449,\n",
       "       0.25510204, 0.        , 0.53061224, 0.12244898, 0.3877551 ,\n",
       "       0.8877551 , 0.7244898 , 0.44897959, 0.32653061, 0.46938776,\n",
       "       0.20408163, 1.        , 0.95918367, 0.70408163, 0.        ,\n",
       "       0.09183673, 0.39795918, 0.        , 0.02040816, 0.42857143,\n",
       "       0.30612245, 0.33673469, 0.89795918, 0.73469388, 0.56122449,\n",
       "       0.21428571, 0.81632653, 0.16326531, 0.57142857, 0.96938776])"
      ]
     },
     "execution_count": 4,
     "metadata": {},
     "output_type": "execute_result"
    }
   ],
   "source": [
    "(x - np.min(x)) / (np.max(x) - np.min(x))"
   ]
  },
  {
   "cell_type": "code",
   "execution_count": 5,
   "metadata": {},
   "outputs": [],
   "source": [
    "x1 = np.random.randint(0, 100, (50, 2)) # 矩阵"
   ]
  },
  {
   "cell_type": "code",
   "execution_count": 10,
   "metadata": {},
   "outputs": [
    {
     "data": {
      "text/plain": [
       "array([[35, 16],\n",
       "       [30, 87],\n",
       "       [ 0, 94],\n",
       "       [25,  6],\n",
       "       [62, 75],\n",
       "       [86, 29],\n",
       "       [63, 41],\n",
       "       [78, 67],\n",
       "       [25, 25],\n",
       "       [ 6, 20]])"
      ]
     },
     "execution_count": 10,
     "metadata": {},
     "output_type": "execute_result"
    }
   ],
   "source": [
    "x1[:10,:]"
   ]
  },
  {
   "cell_type": "code",
   "execution_count": 11,
   "metadata": {},
   "outputs": [],
   "source": [
    "x1 = np.array(x1, dtype=float)"
   ]
  },
  {
   "cell_type": "code",
   "execution_count": 12,
   "metadata": {},
   "outputs": [
    {
     "data": {
      "text/plain": [
       "array([[35., 16.],\n",
       "       [30., 87.],\n",
       "       [ 0., 94.],\n",
       "       [25.,  6.],\n",
       "       [62., 75.],\n",
       "       [86., 29.],\n",
       "       [63., 41.],\n",
       "       [78., 67.],\n",
       "       [25., 25.],\n",
       "       [ 6., 20.],\n",
       "       [91., 26.],\n",
       "       [31., 18.],\n",
       "       [61., 95.],\n",
       "       [13., 62.],\n",
       "       [ 7., 54.],\n",
       "       [18., 51.],\n",
       "       [26., 17.],\n",
       "       [17., 44.],\n",
       "       [82., 35.],\n",
       "       [ 0., 15.],\n",
       "       [39., 97.],\n",
       "       [ 3., 47.],\n",
       "       [70., 32.],\n",
       "       [18., 35.],\n",
       "       [88., 87.],\n",
       "       [69., 81.],\n",
       "       [19., 58.],\n",
       "       [ 6., 52.],\n",
       "       [44., 43.],\n",
       "       [17., 21.],\n",
       "       [94., 27.],\n",
       "       [ 2., 38.],\n",
       "       [29., 33.],\n",
       "       [76., 41.],\n",
       "       [93.,  4.],\n",
       "       [78., 26.],\n",
       "       [82.,  8.],\n",
       "       [69., 29.],\n",
       "       [69., 58.],\n",
       "       [62., 62.],\n",
       "       [91., 75.],\n",
       "       [30.,  6.],\n",
       "       [67., 62.],\n",
       "       [69., 64.],\n",
       "       [51., 40.],\n",
       "       [28., 79.],\n",
       "       [ 3., 43.],\n",
       "       [76., 30.],\n",
       "       [26., 62.],\n",
       "       [18., 26.]])"
      ]
     },
     "execution_count": 12,
     "metadata": {},
     "output_type": "execute_result"
    }
   ],
   "source": [
    "x1"
   ]
  },
  {
   "cell_type": "code",
   "execution_count": 13,
   "metadata": {},
   "outputs": [],
   "source": [
    "x1[:,0] = (x1[:,0] - np.min(x1[:,0])) / (np.max(x1[:,0]) - np.min(x1[:,0])) # 对第一列进行数据归一化\n",
    "x1[:,1] = (x1[:,1] - np.min(x1[:,1])) / (np.max(x1[:,1]) - np.min(x1[:,1])) # 对第二列进行数据归一化"
   ]
  },
  {
   "cell_type": "code",
   "execution_count": 14,
   "metadata": {},
   "outputs": [
    {
     "data": {
      "text/plain": [
       "array([[0.37234043, 0.12903226],\n",
       "       [0.31914894, 0.89247312],\n",
       "       [0.        , 0.96774194],\n",
       "       [0.26595745, 0.02150538],\n",
       "       [0.65957447, 0.76344086],\n",
       "       [0.91489362, 0.2688172 ],\n",
       "       [0.67021277, 0.39784946],\n",
       "       [0.82978723, 0.67741935],\n",
       "       [0.26595745, 0.22580645],\n",
       "       [0.06382979, 0.17204301],\n",
       "       [0.96808511, 0.23655914],\n",
       "       [0.32978723, 0.15053763],\n",
       "       [0.64893617, 0.97849462],\n",
       "       [0.13829787, 0.62365591],\n",
       "       [0.07446809, 0.53763441],\n",
       "       [0.19148936, 0.50537634],\n",
       "       [0.27659574, 0.13978495],\n",
       "       [0.18085106, 0.43010753],\n",
       "       [0.87234043, 0.33333333],\n",
       "       [0.        , 0.11827957],\n",
       "       [0.41489362, 1.        ],\n",
       "       [0.03191489, 0.46236559],\n",
       "       [0.74468085, 0.30107527],\n",
       "       [0.19148936, 0.33333333],\n",
       "       [0.93617021, 0.89247312],\n",
       "       [0.73404255, 0.82795699],\n",
       "       [0.20212766, 0.58064516],\n",
       "       [0.06382979, 0.51612903],\n",
       "       [0.46808511, 0.41935484],\n",
       "       [0.18085106, 0.1827957 ],\n",
       "       [1.        , 0.24731183],\n",
       "       [0.0212766 , 0.3655914 ],\n",
       "       [0.30851064, 0.31182796],\n",
       "       [0.80851064, 0.39784946],\n",
       "       [0.9893617 , 0.        ],\n",
       "       [0.82978723, 0.23655914],\n",
       "       [0.87234043, 0.04301075],\n",
       "       [0.73404255, 0.2688172 ],\n",
       "       [0.73404255, 0.58064516],\n",
       "       [0.65957447, 0.62365591],\n",
       "       [0.96808511, 0.76344086],\n",
       "       [0.31914894, 0.02150538],\n",
       "       [0.71276596, 0.62365591],\n",
       "       [0.73404255, 0.64516129],\n",
       "       [0.54255319, 0.38709677],\n",
       "       [0.29787234, 0.80645161],\n",
       "       [0.03191489, 0.41935484],\n",
       "       [0.80851064, 0.27956989],\n",
       "       [0.27659574, 0.62365591],\n",
       "       [0.19148936, 0.23655914]])"
      ]
     },
     "execution_count": 14,
     "metadata": {},
     "output_type": "execute_result"
    }
   ],
   "source": [
    "x1"
   ]
  },
  {
   "cell_type": "code",
   "execution_count": 16,
   "metadata": {},
   "outputs": [
    {
     "data": {
      "text/plain": [
       "<matplotlib.collections.PathCollection at 0x17c39c74c10>"
      ]
     },
     "execution_count": 16,
     "metadata": {},
     "output_type": "execute_result"
    },
    {
     "data": {
      "image/png": "[encoded data removed]",
      "text/plain": [
       "<Figure size 432x288 with 1 Axes>"
      ]
     },
     "metadata": {
      "needs_background": "light"
     },
     "output_type": "display_data"
    }
   ],
   "source": [
    "plt.scatter(x1[:,0], x1[:,1])"
   ]
  },
  {
   "cell_type": "code",
   "execution_count": 17,
   "metadata": {},
   "outputs": [
    {
     "data": {
      "text/plain": [
       "0.4770212765957447"
      ]
     },
     "execution_count": 17,
     "metadata": {},
     "output_type": "execute_result"
    }
   ],
   "source": [
    "np.mean(x1[:,0])"
   ]
  },
  {
   "cell_type": "code",
   "execution_count": 18,
   "metadata": {},
   "outputs": [
    {
     "data": {
      "text/plain": [
       "0.32312670060617954"
      ]
     },
     "execution_count": 18,
     "metadata": {},
     "output_type": "execute_result"
    }
   ],
   "source": [
    "np.std(x1[:,0]) # 方差"
   ]
  },
  {
   "cell_type": "markdown",
   "metadata": {},
   "source": [
    "# 均值方差归一化 Standardization"
   ]
  },
  {
   "cell_type": "code",
   "execution_count": 19,
   "metadata": {},
   "outputs": [],
   "source": [
    "x2 = np.random.randint(0, 100, (50, 2))\n",
    "x2 = np.array(x2, dtype=float)"
   ]
  },
  {
   "cell_type": "code",
   "execution_count": 20,
   "metadata": {},
   "outputs": [],
   "source": [
    "x2[:,0] = (x2[:,0] - np.mean(x2[:,0])) / np.std(x1[:,0])\n",
    "x2[:,1] = (x2[:,1] - np.mean(x2[:,1])) / np.std(x1[:,1])"
   ]
  },
  {
   "cell_type": "code",
   "execution_count": 21,
   "metadata": {},
   "outputs": [
    {
     "data": {
      "text/plain": [
       "<matplotlib.collections.PathCollection at 0x17c395425e0>"
      ]
     },
     "execution_count": 21,
     "metadata": {},
     "output_type": "execute_result"
    },
    {
     "data": {
      "image/png": "[encoded data removed]",
      "text/plain": [
       "<Figure size 432x288 with 1 Axes>"
      ]
     },
     "metadata": {
      "needs_background": "light"
     },
     "output_type": "display_data"
    }
   ],
   "source": [
    "plt.scatter(x2[:,0], x2[:,1])"
   ]
  },
  {
   "cell_type": "code",
   "execution_count": null,
   "metadata": {},
   "outputs": [],
   "source": []
  }
 ],
 "metadata": {
  "kernelspec": {
   "display_name": "Python 3",
   "language": "python",
   "name": "python3"
  },
  "language_info": {
   "codemirror_mode": {
    "name": "ipython",
    "version": 3
   },
   "file_extension": ".py",
   "mimetype": "text/x-python",
   "name": "python",
   "nbconvert_exporter": "python",
   "pygments_lexer": "ipython3",
   "version": "3.8.5"
  }
 },
 "nbformat": 4,
 "nbformat_minor": 4
}
