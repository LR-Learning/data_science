{
 "cells": [
  {
   "cell_type": "code",
   "execution_count": 1,
   "metadata": {},
   "outputs": [],
   "source": [
    "import numpy as np\n",
    "import pandas as pd\n",
    "\n",
    "import matplotlib.pyplot as plt\n",
    "import warnings\n",
    "warnings.filterwarnings('ignore')\n",
    "from matplotlib.pylab import style\n",
    "style.use('ggplot')\n",
    "plt.rcParams['font.sans-serif'] = ['SimHei']\n",
    "plt.rcParams['axes.unicode_minus'] = False"
   ]
  },
  {
   "cell_type": "code",
   "execution_count": 5,
   "metadata": {},
   "outputs": [
    {
     "data": {
      "text/html": [
       "<div>\n",
       "<style scoped>\n",
       "    .dataframe tbody tr th:only-of-type {\n",
       "        vertical-align: middle;\n",
       "    }\n",
       "\n",
       "    .dataframe tbody tr th {\n",
       "        vertical-align: top;\n",
       "    }\n",
       "\n",
       "    .dataframe thead th {\n",
       "        text-align: right;\n",
       "    }\n",
       "</style>\n",
       "<table border=\"1\" class=\"dataframe\">\n",
       "  <thead>\n",
       "    <tr style=\"text-align: right;\">\n",
       "      <th></th>\n",
       "      <th>id</th>\n",
       "      <th>income</th>\n",
       "      <th>age</th>\n",
       "      <th>experience_years</th>\n",
       "      <th>is_married</th>\n",
       "      <th>city</th>\n",
       "      <th>region</th>\n",
       "      <th>current_job_years</th>\n",
       "      <th>current_house_years</th>\n",
       "      <th>house_ownership</th>\n",
       "      <th>car_ownership</th>\n",
       "      <th>profession</th>\n",
       "      <th>label</th>\n",
       "    </tr>\n",
       "  </thead>\n",
       "  <tbody>\n",
       "    <tr>\n",
       "      <th>0</th>\n",
       "      <td>train_0</td>\n",
       "      <td>8529345</td>\n",
       "      <td>44</td>\n",
       "      <td>2</td>\n",
       "      <td>single</td>\n",
       "      <td>210</td>\n",
       "      <td>0</td>\n",
       "      <td>2</td>\n",
       "      <td>10</td>\n",
       "      <td>rented</td>\n",
       "      <td>no</td>\n",
       "      <td>13</td>\n",
       "      <td>0</td>\n",
       "    </tr>\n",
       "    <tr>\n",
       "      <th>1</th>\n",
       "      <td>train_1</td>\n",
       "      <td>7848654</td>\n",
       "      <td>55</td>\n",
       "      <td>9</td>\n",
       "      <td>single</td>\n",
       "      <td>229</td>\n",
       "      <td>2</td>\n",
       "      <td>9</td>\n",
       "      <td>13</td>\n",
       "      <td>rented</td>\n",
       "      <td>no</td>\n",
       "      <td>43</td>\n",
       "      <td>0</td>\n",
       "    </tr>\n",
       "    <tr>\n",
       "      <th>2</th>\n",
       "      <td>train_2</td>\n",
       "      <td>8491491</td>\n",
       "      <td>61</td>\n",
       "      <td>20</td>\n",
       "      <td>single</td>\n",
       "      <td>114</td>\n",
       "      <td>28</td>\n",
       "      <td>8</td>\n",
       "      <td>11</td>\n",
       "      <td>rented</td>\n",
       "      <td>no</td>\n",
       "      <td>12</td>\n",
       "      <td>0</td>\n",
       "    </tr>\n",
       "    <tr>\n",
       "      <th>3</th>\n",
       "      <td>train_3</td>\n",
       "      <td>8631544</td>\n",
       "      <td>69</td>\n",
       "      <td>13</td>\n",
       "      <td>married</td>\n",
       "      <td>276</td>\n",
       "      <td>14</td>\n",
       "      <td>13</td>\n",
       "      <td>12</td>\n",
       "      <td>rented</td>\n",
       "      <td>no</td>\n",
       "      <td>27</td>\n",
       "      <td>0</td>\n",
       "    </tr>\n",
       "    <tr>\n",
       "      <th>4</th>\n",
       "      <td>train_4</td>\n",
       "      <td>6947233</td>\n",
       "      <td>62</td>\n",
       "      <td>10</td>\n",
       "      <td>single</td>\n",
       "      <td>56</td>\n",
       "      <td>11</td>\n",
       "      <td>10</td>\n",
       "      <td>12</td>\n",
       "      <td>rented</td>\n",
       "      <td>no</td>\n",
       "      <td>47</td>\n",
       "      <td>0</td>\n",
       "    </tr>\n",
       "  </tbody>\n",
       "</table>\n",
       "</div>"
      ],
      "text/plain": [
       "        id   income  age  experience_years is_married  city  region  \\\n",
       "0  train_0  8529345   44                 2     single   210       0   \n",
       "1  train_1  7848654   55                 9     single   229       2   \n",
       "2  train_2  8491491   61                20     single   114      28   \n",
       "3  train_3  8631544   69                13    married   276      14   \n",
       "4  train_4  6947233   62                10     single    56      11   \n",
       "\n",
       "   current_job_years  current_house_years house_ownership car_ownership  \\\n",
       "0                  2                   10          rented            no   \n",
       "1                  9                   13          rented            no   \n",
       "2                  8                   11          rented            no   \n",
       "3                 13                   12          rented            no   \n",
       "4                 10                   12          rented            no   \n",
       "\n",
       "   profession  label  \n",
       "0          13      0  \n",
       "1          43      0  \n",
       "2          12      0  \n",
       "3          27      0  \n",
       "4          47      0  "
      ]
     },
     "execution_count": 5,
     "metadata": {},
     "output_type": "execute_result"
    }
   ],
   "source": [
    "data_train = pd.read_csv('./train.csv')\n",
    "data_test = pd.read_csv('./test.csv')\n",
    "data_train.head()"
   ]
  },
  {
   "cell_type": "code",
   "execution_count": 6,
   "metadata": {},
   "outputs": [
    {
     "name": "stdout",
     "output_type": "stream",
     "text": [
      "<class 'pandas.core.frame.DataFrame'>\n",
      "RangeIndex: 168000 entries, 0 to 167999\n",
      "Data columns (total 13 columns):\n",
      " #   Column               Non-Null Count   Dtype \n",
      "---  ------               --------------   ----- \n",
      " 0   id                   168000 non-null  object\n",
      " 1   income               168000 non-null  int64 \n",
      " 2   age                  168000 non-null  int64 \n",
      " 3   experience_years     168000 non-null  int64 \n",
      " 4   is_married           168000 non-null  object\n",
      " 5   city                 168000 non-null  int64 \n",
      " 6   region               168000 non-null  int64 \n",
      " 7   current_job_years    168000 non-null  int64 \n",
      " 8   current_house_years  168000 non-null  int64 \n",
      " 9   house_ownership      168000 non-null  object\n",
      " 10  car_ownership        168000 non-null  object\n",
      " 11  profession           168000 non-null  int64 \n",
      " 12  label                168000 non-null  int64 \n",
      "dtypes: int64(9), object(4)\n",
      "memory usage: 16.7+ MB\n"
     ]
    }
   ],
   "source": [
    "data_train.info()"
   ]
  },
  {
   "cell_type": "code",
   "execution_count": 7,
   "metadata": {},
   "outputs": [
    {
     "data": {
      "text/plain": [
       "id                     0\n",
       "income                 0\n",
       "age                    0\n",
       "experience_years       0\n",
       "is_married             0\n",
       "city                   0\n",
       "region                 0\n",
       "current_job_years      0\n",
       "current_house_years    0\n",
       "house_ownership        0\n",
       "car_ownership          0\n",
       "profession             0\n",
       "label                  0\n",
       "dtype: int64"
      ]
     },
     "execution_count": 7,
     "metadata": {},
     "output_type": "execute_result"
    }
   ],
   "source": [
    "data_train.isnull().sum()"
   ]
  },
  {
   "cell_type": "code",
   "execution_count": null,
   "metadata": {},
   "outputs": [],
   "source": []
  },
  {
   "cell_type": "code",
   "execution_count": null,
   "metadata": {},
   "outputs": [],
   "source": []
  },
  {
   "cell_type": "code",
   "execution_count": null,
   "metadata": {},
   "outputs": [],
   "source": []
  },
  {
   "cell_type": "code",
   "execution_count": null,
   "metadata": {},
   "outputs": [],
   "source": []
  }
 ],
 "metadata": {
  "kernelspec": {
   "display_name": "Python 3",
   "language": "python",
   "name": "python3"
  },
  "language_info": {
   "codemirror_mode": {
    "name": "ipython",
    "version": 3
   },
   "file_extension": ".py",
   "mimetype": "text/x-python",
   "name": "python",
   "nbconvert_exporter": "python",
   "pygments_lexer": "ipython3",
   "version": "3.8.5"
  }
 },
 "nbformat": 4,
 "nbformat_minor": 4
}
